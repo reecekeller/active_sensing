{
 "cells": [
  {
   "cell_type": "code",
   "execution_count": 52,
   "metadata": {},
   "outputs": [],
   "source": [
    "import numpy as np\n",
    "import matplotlib.pyplot as plt\n",
    "from scripts.utils import info_map\n",
    "from scripts.arena import Arena, Aperture, Mouse, visualize_arena\n",
    "from tqdm import tqdm\n",
    "import os"
   ]
  },
  {
   "cell_type": "code",
   "execution_count": 9,
   "metadata": {},
   "outputs": [],
   "source": [
    "arena = Arena(length=60, width=60, height=50)\n",
    "aperture = Aperture(arena_width=60, arena_height=50, arena_length=60, gap_width=10)\n",
    "circleL = (arena.width/2 - aperture.gap_width, arena.width, arena.height/2)\n",
    "circleR = (arena.width/2 + aperture.gap_width, arena.width, arena.height/2)\n",
    "\n"
   ]
  },
  {
   "cell_type": "code",
   "execution_count": 49,
   "metadata": {},
   "outputs": [],
   "source": [
    "def get_visibility(source, target, aperture):\n",
    "    v_t2Lwall = np.subtract(aperture.left_wall_edge + (target[2],), target)\n",
    "    v_t2Lwall = v_t2Lwall/np.linalg.norm(v_t2Lwall)\n",
    "    v_t2Rwall = np.subtract(aperture.right_wall_edge + (target[2],), target)\n",
    "    v_t2Rwall = v_t2Rwall/np.linalg.norm(v_t2Rwall)\n",
    "\n",
    "    # Vector from target to source (normalized)\n",
    "    v_t2s = np.subtract(source, target)\n",
    "    v_t2s = v_t2s / np.linalg.norm(v_t2s)\n",
    "\n",
    "    # Cross products to determine the relative position of v_target2source\n",
    "    cross_LS = np.cross(v_t2Lwall[:2], v_t2s[:2])\n",
    "    cross_RS = np.cross( v_t2s[:2], v_t2Rwall[:2],)\n",
    "    # Check if v_target2source is between the left and right wall vectors\n",
    "\n",
    "    if cross_LS >=0 and cross_RS >=0:\n",
    "        return True\n",
    "    else:\n",
    "        return False\n",
    "\n",
    "\n",
    "def get_visible_area(source, circle_center, radius, aperture):\n",
    "    \"\"\"\n",
    "    Calculate the visible area of a circle from a given point by checking the visibility\n",
    "    of various points on the circle's perimeter.\n",
    "    \"\"\"\n",
    "    d_theta = np.pi/180  # Increase for higher accuracy\n",
    "    angles = np.arange(0, 2 * np.pi, d_theta)\n",
    "    visible_angles = []\n",
    "    \n",
    "    for i in range(len(angles)-1):\n",
    "        # Parametrize the circle\n",
    "        x_circle = circle_center[0] + radius * np.cos(angles[i])\n",
    "        z_circle = circle_center[2] + radius * np.sin(angles[i])\n",
    "        y_circle = circle_center[1]  # Y remains the same for a circle in the YZ plane\n",
    "        \n",
    "        circle_point = (x_circle, y_circle, z_circle)\n",
    "        flag = get_visibility(source, circle_point, aperture)\n",
    "        if flag:\n",
    "            visible_angles.append(angles[i])\n",
    "    #print(len(angles), len(visible_angles))\n",
    "    area  = get_segment_area(visible_angles, radius)\n",
    "    return area\n",
    "\n",
    "def get_segment_area(angles, radius):\n",
    "    if len(angles)==0:\n",
    "        return (0, 0)\n",
    "    else:\n",
    "        # Sort the angles\n",
    "        angles = np.sort(angles)\n",
    "        \n",
    "        # Calculate the differences between consecutive angles\n",
    "        diffs = np.diff(angles, append=angles[0] + 2 * np.pi - angles[-1])\n",
    "        \n",
    "        # Find the largest gap, which is the central angle of the segment\n",
    "        central_angle = np.max(diffs)\n",
    "            \n",
    "        # Calculate the area of the circular segment\n",
    "        # Area of segment = 0.5 * radius^2 * (theta - sin(theta))\n",
    "        area = 0.5 * radius**2 * (central_angle - np.sin(central_angle))\n",
    "\n",
    "        # area compliment \n",
    "        area_c = np.pi*radius**2 - area\n",
    "        return np.sort(np.array([area, area_c]))\n",
    "    \n",
    "def infoMetric(area1, area2):\n",
    "    return 0.5 * np.abs(area1 + area2)\n",
    "\n",
    "def info_map(arena, circle1_center, circle2_center, aperture, radius):\n",
    "    x_resolution = 60\n",
    "    y_resolution = 60\n",
    "\n",
    "    x = np.linspace(0, arena.length, x_resolution)\n",
    "    y = np.linspace(0, arena.width, y_resolution)\n",
    "\n",
    "    info_mat = np.zeros((x_resolution, y_resolution))\n",
    "    print(info_mat.shape, '\\n')\n",
    "    # Iterate through a grid of points in the arena\n",
    "    for i in tqdm(range(x_resolution)):\n",
    "        for j in range(y_resolution):\n",
    "            source = (x[i], y[j], 20)\n",
    "            area_circle1 = get_visible_area(source, circle1_center, radius, aperture)\n",
    "            area_circle2 = get_visible_area(source, circle2_center, radius, aperture)\n",
    "\n",
    "            # Check whether to use major or minor segment area\n",
    "\n",
    "            # larger element of area_circle is last element\n",
    "            if source[0] > arena.length/2:\n",
    "                A1 = area_circle1[1]\n",
    "                A2 = area_circle2[0]\n",
    "            elif source[0] < arena.length/2:\n",
    "                A1 = area_circle1[0]\n",
    "                A2 = area_circle2[1]\n",
    "            else: \n",
    "                A1 = area_circle1[0]\n",
    "                A2 = area_circle2[0]    \n",
    "\n",
    "            info_mat[i, j] = infoMetric(A1, A2) \n",
    "    return info_mat"
   ]
  },
  {
   "cell_type": "code",
   "execution_count": 48,
   "metadata": {},
   "outputs": [
    {
     "name": "stdout",
     "output_type": "stream",
     "text": [
      "360 132\n",
      "[0.0, 0.017453292519943295, 0.03490658503988659, 0.05235987755982989, 0.06981317007977318, 0.08726646259971647, 0.10471975511965978, 0.12217304763960307, 0.13962634015954636, 0.15707963267948966, 0.17453292519943295, 0.19198621771937624, 0.20943951023931956, 0.22689280275926285, 0.24434609527920614, 0.2617993877991494, 0.2792526803190927, 0.29670597283903605, 0.3141592653589793, 0.33161255787892263, 0.3490658503988659, 0.3665191429188092, 0.3839724354387525, 0.4014257279586958, 0.4188790204786391, 0.4363323129985824, 0.4537856055185257, 0.47123889803846897, 0.4886921905584123, 0.5061454830783556, 0.5235987755982988, 0.5410520681182421, 0.5585053606381855, 0.5759586531581288, 0.5934119456780721, 0.6108652381980153, 0.6283185307179586, 0.6457718232379019, 0.6632251157578453, 0.6806784082777885, 0.6981317007977318, 0.7155849933176751, 0.7330382858376184, 0.7504915783575618, 0.767944870877505, 0.7853981633974483, 0.8028514559173916, 0.8203047484373349, 0.8377580409572782, 0.8552113334772214, 0.8726646259971648, 0.8901179185171081, 0.9075712110370514, 0.9250245035569946, 0.9424777960769379, 0.9599310885968813, 0.9773843811168246, 0.9948376736367679, 1.0122909661567112, 1.0297442586766545, 1.0471975511965976, 1.064650843716541, 1.0821041362364843, 1.0995574287564276, 1.117010721276371, 1.1344640137963142, 1.1519173063162575, 5.1312680008633285, 5.1487212933832724, 5.1661745859032155, 5.183627878423159, 5.201081170943102, 5.218534463463046, 5.235987755982989, 5.253441048502932, 5.270894341022875, 5.288347633542818, 5.305800926062762, 5.323254218582705, 5.340707511102648, 5.358160803622591, 5.375614096142535, 5.3930673886624785, 5.410520681182422, 5.427973973702365, 5.445427266222308, 5.462880558742252, 5.480333851262195, 5.497787143782138, 5.515240436302081, 5.532693728822025, 5.550147021341968, 5.567600313861911, 5.585053606381854, 5.602506898901797, 5.619960191421741, 5.6374134839416845, 5.654866776461628, 5.672320068981571, 5.689773361501515, 5.707226654021458, 5.724679946541401, 5.742133239061344, 5.759586531581287, 5.777039824101231, 5.794493116621174, 5.811946409141117, 5.82939970166106, 5.846852994181004, 5.8643062867009474, 5.8817595792208905, 5.899212871740834, 5.916666164260777, 5.934119456780721, 5.951572749300664, 5.969026041820607, 5.98647933434055, 6.003932626860494, 6.021385919380437, 6.03883921190038, 6.056292504420323, 6.073745796940266, 6.09119908946021, 6.1086523819801535, 6.126105674500097, 6.14355896702004, 6.161012259539984, 6.178465552059927, 6.19591884457987, 6.213372137099813, 6.230825429619756, 6.2482787221397]\n",
      "59.03119400030581\n"
     ]
    }
   ],
   "source": [
    "source = (10, 0, 20)\n",
    "target = (40, 60, 25)\n",
    "x=get_visible_area(source, circleL, 5, aperture)\n",
    "v = get_visibility(source, target, aperture)\n",
    "print(x)\n",
    "a =get_segment_area(x, 5)\n",
    "print(a[1])\n"
   ]
  },
  {
   "cell_type": "code",
   "execution_count": 50,
   "metadata": {},
   "outputs": [
    {
     "name": "stdout",
     "output_type": "stream",
     "text": [
      "(60, 60) \n",
      "\n"
     ]
    },
    {
     "name": "stderr",
     "output_type": "stream",
     "text": [
      "100%|██████████| 60/60 [01:45<00:00,  1.76s/it]\n"
     ]
    }
   ],
   "source": [
    "info_mat = info_map(arena, circleL, circleR, aperture, radius=5)\n"
   ]
  },
  {
   "cell_type": "code",
   "execution_count": 53,
   "metadata": {},
   "outputs": [],
   "source": [
    "BASE_PATH = \"/Users/reecekeller/Documents/Xaq/act_sense/act_sense/data/\"\n",
    "np.save(os.path.join(BASE_PATH, 'info_matrix.npy'), info_mat)\n"
   ]
  },
  {
   "cell_type": "code",
   "execution_count": 54,
   "metadata": {},
   "outputs": [],
   "source": [
    "info_map = np.load(BASE_PATH + 'info_matrix.npy')"
   ]
  },
  {
   "cell_type": "code",
   "execution_count": 55,
   "metadata": {},
   "outputs": [
    {
     "data": {
      "image/png": "[encoded data removed]",
      "text/plain": [
       "<Figure size 640x480 with 2 Axes>"
      ]
     },
     "metadata": {},
     "output_type": "display_data"
    }
   ],
   "source": [
    "plt.imshow(info_map)\n",
    "plt.colorbar()\n",
    "plt.show()\n"
   ]
  }
 ],
 "metadata": {
  "kernelspec": {
   "display_name": "adaptation",
   "language": "python",
   "name": "python3"
  },
  "language_info": {
   "codemirror_mode": {
    "name": "ipython",
    "version": 3
   },
   "file_extension": ".py",
   "mimetype": "text/x-python",
   "name": "python",
   "nbconvert_exporter": "python",
   "pygments_lexer": "ipython3",
   "version": "3.9.17"
  }
 },
 "nbformat": 4,
 "nbformat_minor": 2
}
