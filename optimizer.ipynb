{
 "cells": [
  {
   "cell_type": "code",
   "execution_count": 1,
   "metadata": {},
   "outputs": [],
   "source": [
    "import numpy as np\n",
    "import matplotlib.pyplot as plt\n",
    "#from scripts.utils import info_map\n",
    "#from scripts.arena import Arena, Aperture, Mouse, visualize_arena\n",
    "from tqdm import tqdm\n",
    "import os\n",
    "from scipy.interpolate import interp1d\n",
    "import torch\n",
    "import torch.optim as optim\n",
    "\n",
    "BASE_PATH = \"/home/rdkeller/active_sensing/act_sense/data/\""
   ]
  },
  {
   "cell_type": "code",
   "execution_count": 2,
   "metadata": {},
   "outputs": [
    {
     "data": {
      "text/plain": [
       "(60, 50)"
      ]
     },
     "execution_count": 2,
     "metadata": {},
     "output_type": "execute_result"
    }
   ],
   "source": [
    "data = np.load(\"/Users/reecekeller/Documents/Xaq/act_sense/act_sense/data/info_matrix_10.0.npy\")\n",
    "data.shape"
   ]
  },
  {
   "cell_type": "code",
   "execution_count": 3,
   "metadata": {},
   "outputs": [
    {
     "ename": "",
     "evalue": "",
     "output_type": "error",
     "traceback": [
      "\u001b[1;31mThe Kernel crashed while executing code in the current cell or a previous cell. \n",
      "\u001b[1;31mPlease review the code in the cell(s) to identify a possible cause of the failure. \n",
      "\u001b[1;31mClick <a href='https://aka.ms/vscodeJupyterKernelCrash'>here</a> for more info. \n",
      "\u001b[1;31mView Jupyter <a href='command:jupyter.viewOutput'>log</a> for further details."
     ]
    }
   ],
   "source": [
    "def max_information_score(info_matrix, start, end):\n",
    "    rows, cols = len(info_matrix), len(info_matrix[0])\n",
    "    start_x, start_y = start\n",
    "    end_x, end_y = end\n",
    "\n",
    "    # Initialize DP table\n",
    "    dp = [[-float('inf')] * cols for _ in range(rows)]\n",
    "    dp[start_x][start_y] = info_matrix[start_x][start_y]\n",
    "\n",
    "    # Fill DP table\n",
    "    for i in range(start_x, rows):\n",
    "        for j in range(start_y, cols):\n",
    "            if i == start_x and j == start_y:\n",
    "                continue\n",
    "            if i > 0:\n",
    "                dp[i][j] = max(dp[i][j], dp[i-1][j] + info_matrix[i][j])\n",
    "            if j > 0:\n",
    "                dp[i][j] = max(dp[i][j], dp[i][j-1] + info_matrix[i][j])\n",
    "            if i > 0 and j > 0:\n",
    "                dp[i][j] = max(dp[i][j], dp[i-1][j-1] + info_matrix[i][j])\n",
    "\n",
    "    # Backtrack to find the path\n",
    "    path = []\n",
    "    x, y = end_x, end_y\n",
    "    while (x, y) != (start_x, start_y):\n",
    "        path.append((x, y))\n",
    "        if x > 0 and dp[x][y] == dp[x-1][y] + info_matrix[x][y]:\n",
    "            x -= 1\n",
    "        elif y > 0 and dp[x][y] == dp[x][y-1] + info_matrix[x][y]:\n",
    "            y -= 1\n",
    "        else:\n",
    "            x -= 1\n",
    "            y -= 1\n",
    "    path.append((start_x, start_y))\n",
    "    path.reverse()\n",
    "\n",
    "    return dp[end_x][end_y], path\n",
    "\n",
    "# Example usage\n",
    "info_matrix = data\n",
    "start = (0, 30)\n",
    "end = (59, 0)\n",
    "\n",
    "max_score, optimal_path = max_information_score(info_matrix, start, end)\n",
    "print(\"Max Information Score:\", max_score)\n",
    "print(\"Optimal Path:\", optimal_path)"
   ]
  },
  {
   "cell_type": "code",
   "execution_count": null,
   "metadata": {},
   "outputs": [],
   "source": [
    "import matplotlib.pyplot as plt\n",
    "import numpy as np\n",
    "\n",
    "def plot_optimal_trajectory(info_matrix, optimal_path):\n",
    "    # Convert the information matrix to a numpy array for plotting\n",
    "    info_matrix = np.array(info_matrix)\n",
    "    \n",
    "    # Create a colormap plot of the information matrix\n",
    "    plt.imshow(info_matrix, cmap='viridis', origin='lower')\n",
    "    plt.colorbar(label='Information Score')\n",
    "    \n",
    "    # Extract the x and y coordinates of the optimal path\n",
    "    x_coords, y_coords = zip(*optimal_path)\n",
    "    \n",
    "    # Plot the optimal path as red dots\n",
    "    plt.plot(y_coords, x_coords, 'ro-', markersize=5, label='Optimal Path')\n",
    "    \n",
    "    # Add labels and title\n",
    "    plt.xlabel('X Coordinate')\n",
    "    plt.ylabel('Y Coordinate')\n",
    "    plt.title('Optimal Trajectory on Information Matrix')\n",
    "    plt.legend()\n",
    "    \n",
    "    # Show the plot\n",
    "    plt.show()\n",
    "\n",
    "# Example usage\n",
    "info_matrix = data\n",
    "start = (0, 30)\n",
    "end = (59, 0)\n",
    "\n",
    "max_score, optimal_path = max_information_score(info_matrix, start, end)\n",
    "print(\"Max Information Score:\", max_score)\n",
    "print(\"Optimal Path:\", optimal_path)\n",
    "\n",
    "# Plot the optimal trajectory\n",
    "plot_optimal_trajectory(info_matrix, optimal_path)"
   ]
  }
 ],
 "metadata": {
  "kernelspec": {
   "display_name": "base",
   "language": "python",
   "name": "python3"
  },
  "language_info": {
   "codemirror_mode": {
    "name": "ipython",
    "version": 3
   },
   "file_extension": ".py",
   "mimetype": "text/x-python",
   "name": "python",
   "nbconvert_exporter": "python",
   "pygments_lexer": "ipython3",
   "version": "3.12.4"
  }
 },
 "nbformat": 4,
 "nbformat_minor": 2
}
